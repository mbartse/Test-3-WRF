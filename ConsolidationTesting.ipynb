{
 "cells": [
  {
   "cell_type": "code",
   "execution_count": null,
   "id": "55a58447-f2be-457b-8085-e78f1b2a2082",
   "metadata": {},
   "outputs": [],
   "source": [
    "import datetime\n",
    "from date_list_gen import date_list_gen\n",
    "from WRF_init import WRF_init\n",
    "from HRRR_download import HRRR_download\n",
    "from HRRR_data_process import HRRR_data_process\n",
    "from get_data_ASOS import get_data_ASOS\n",
    "from ASOS_process import ASOS_process\n",
    "from ASOS_WRF_HRRR import ASOS_WRF_HRRR"
   ]
  },
  {
   "cell_type": "code",
   "execution_count": null,
   "id": "8e557358-a4c7-4598-869e-c7febde9cd0f",
   "metadata": {},
   "outputs": [],
   "source": [
    "first_date = datetime.datetime(2022, 8, 25, 0, 0)\n",
    "last_date = datetime.datetime(2022, 8, 31, 0, 0)\n",
    "date_list = date_list_gen(first_date,last_date)"
   ]
  },
  {
   "cell_type": "code",
   "execution_count": null,
   "id": "91685b22-3108-4da3-bcf6-2593a941c27d",
   "metadata": {},
   "outputs": [],
   "source": [
    "#for date in date_list:\n",
    "[temp_t2_Case_A, rh2_Case_A, uvmet10_Case_A, wspd_wdir10_Case_A, date_generated, init_check, files_Case_A_dataset, Land_mask] = WRF_init(date_list[0])"
   ]
  },
  {
   "cell_type": "code",
   "execution_count": null,
   "id": "ee207c03-3c42-446c-8026-5be993b958bb",
   "metadata": {},
   "outputs": [],
   "source": [
    "if init_check == []:\n",
    "    hour = 0\n",
    "else:\n",
    "    hour = 6\n",
    "print('init_hour =',hour) "
   ]
  },
  {
   "cell_type": "code",
   "execution_count": null,
   "id": "abe41c53-bda6-4fab-b303-5a81a67e0002",
   "metadata": {},
   "outputs": [],
   "source": [
    "[t2m_cdf_path, uv_cdf_path, rh_cdf_path] = HRRR_download(date_generated = date_generated, hour = hour, startf = first_date, endf = last_date)"
   ]
  },
  {
   "cell_type": "code",
   "execution_count": null,
   "id": "d9892d6d-f269-4a83-945e-733e0ccde023",
   "metadata": {},
   "outputs": [],
   "source": [
    "t2m_cdf_path = '/home/michael.bartsevich/SynopticPy/notebooks/2022_Obs_WRF/HRRR_NC/HRRR_0825_0831_T2m.nc'\n",
    "uv_cdf_path = '/home/michael.bartsevich/SynopticPy/notebooks/2022_Obs_WRF/HRRR_NC/HRRR_0825_0831_UV10.nc'\n",
    "rh_cdf_path = '/home/michael.bartsevich/SynopticPy/notebooks/2022_Obs_WRF/HRRR_NC/HRRR_0825_0831_RH2m.nc'"
   ]
  },
  {
   "cell_type": "code",
   "execution_count": null,
   "id": "dc0df16a-e594-46ae-becf-eb97c7d72587",
   "metadata": {},
   "outputs": [],
   "source": [
    "df_HRRR = HRRR_data_process(t2m_cdf_path, uv_cdf_path, rh_cdf_path, date_generated)"
   ]
  },
  {
   "cell_type": "code",
   "execution_count": null,
   "id": "2d7b0d07-cdd5-4dca-a93c-21876944b1f9",
   "metadata": {},
   "outputs": [],
   "source": [
    "# Pulling ASOS data\n",
    "[df_asos, stations] = get_data_ASOS(first_date, last_date)"
   ]
  },
  {
   "cell_type": "code",
   "execution_count": null,
   "id": "df1b3590-0842-4935-b830-bc5d2a8f4243",
   "metadata": {},
   "outputs": [],
   "source": [
    "[df_resamp, df_loc] = ASOS_process(files_Case_A_dataset, Land_mask, date_generated, df_asos)"
   ]
  },
  {
   "cell_type": "code",
   "execution_count": null,
   "id": "c07c042f-dd49-4acd-bfad-32b0bb30944b",
   "metadata": {},
   "outputs": [],
   "source": [
    "ASOS_WRF_HRRR(df_loc, df_resamp, date_generated, temp_t2_Case_A, rh2_Case_A, uvmet10_Case_A, wspd_wdir10_Case_A, df_HRRR, startf = first_date)"
   ]
  }
 ],
 "metadata": {
  "kernelspec": {
   "display_name": "Python 3 (ipykernel)",
   "language": "python",
   "name": "python3"
  },
  "language_info": {
   "codemirror_mode": {
    "name": "ipython",
    "version": 3
   },
   "file_extension": ".py",
   "mimetype": "text/x-python",
   "name": "python",
   "nbconvert_exporter": "python",
   "pygments_lexer": "ipython3",
   "version": "3.11.0"
  }
 },
 "nbformat": 4,
 "nbformat_minor": 5
}
